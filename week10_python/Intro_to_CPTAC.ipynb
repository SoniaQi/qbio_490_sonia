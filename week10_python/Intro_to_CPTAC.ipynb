{
 "cells": [
  {
   "cell_type": "markdown",
   "id": "9f3b6a87",
   "metadata": {},
   "source": [
    "# Introduction to CPTAC and Proteomics\n",
    "\n",
    "This document will take you through the basics of CPTAC and analyzing proteomic data in python. Let's get started!"
   ]
  },
  {
   "cell_type": "markdown",
   "id": "64ad08b5",
   "metadata": {},
   "source": [
    "## Setting up your working directory\n",
    "\n",
    "Set your working directory to your analysis_data folder."
   ]
  },
  {
   "cell_type": "code",
   "execution_count": 59,
   "id": "a53acaad",
   "metadata": {},
   "outputs": [],
   "source": [
    "import os\n",
    "\n",
    "os.chdir('/Users/soniaqi/Documents/QBio-490/qbio_490_sonia/analysis_data')"
   ]
  },
  {
   "cell_type": "markdown",
   "id": "bcf734ad",
   "metadata": {},
   "source": [
    "## (1) Introduction to CPTAC\n",
    "\n",
    "To install CPTAC, we will use the `cptac` package. CPTAC, which stands for Clinical Proteomics Tumor Analysis Consortium, is a bit like TCGA in that it is publicly available big data for many different cancer but it focuses mostly on proteomics and proteogenomic data. One cool thing about CPTAC is that its proteomics data is *in conjunction* with TCGA clinical data, so CPTAC and TCGA share patients and we can extract more about their protein expression as an added layer of analysis using CPTAC.\n",
    "\n",
    "The thing about proteomic data is that it doesn't use absolute counts like RNA data. Instead, proteomics data shows the **relative expression/intensity** instead of counts. This makes it easier to compare protein expression data among different groups/demographics of interest because we have a reference value. \n",
    "\n",
    "### Installing and importing `cptac` &#8592; we already did this!\n",
    "The `cptac` package is similar to `TCGAbiolinks`. The information in `cptac` is stored using pandas dataframes. Just like in R, we need to install `cptac` before loading it into our environment. If you haven't installed it yet, just run the code chunk below. If you get an error, you will have to take the following steps:\n",
    "\n",
    "1. Shut down jupyter notebook in the terminal with CTRL+C.\n",
    "2. Make sure that you have deactivated your base environment and activated your qbio_student environment.\n",
    "3. Run `pip install cptac`.\n",
    "4. Open the tutorial again through jupyter.\n",
    "\n",
    "### Start exploring CPTAC with `cptac`\n",
    "Similar to TCGAbiolinks, we need to load the package and download the data before using.\n",
    "1. Import the package (`cptac`).\n",
    "2. Look at the data sets available to us with the list_datasets() function. As a reminder, remember the package_name.method() syntax!\n",
    "3. Download the one of interest (BRCA in our case).\n",
    "4. Load it into our python environment."
   ]
  },
  {
   "cell_type": "code",
   "execution_count": 61,
   "id": "3274cad7",
   "metadata": {},
   "outputs": [
    {
     "data": {
      "text/html": [
       "<div>\n",
       "<style scoped>\n",
       "    .dataframe tbody tr th:only-of-type {\n",
       "        vertical-align: middle;\n",
       "    }\n",
       "\n",
       "    .dataframe tbody tr th {\n",
       "        vertical-align: top;\n",
       "    }\n",
       "\n",
       "    .dataframe thead th {\n",
       "        text-align: right;\n",
       "    }\n",
       "</style>\n",
       "<table border=\"1\" class=\"dataframe\">\n",
       "  <thead>\n",
       "    <tr style=\"text-align: right;\">\n",
       "      <th></th>\n",
       "      <th>Description</th>\n",
       "      <th>Data reuse status</th>\n",
       "      <th>Publication link</th>\n",
       "    </tr>\n",
       "    <tr>\n",
       "      <th>Dataset name</th>\n",
       "      <th></th>\n",
       "      <th></th>\n",
       "      <th></th>\n",
       "    </tr>\n",
       "  </thead>\n",
       "  <tbody>\n",
       "    <tr>\n",
       "      <th>Brca</th>\n",
       "      <td>breast cancer</td>\n",
       "      <td>no restrictions</td>\n",
       "      <td>https://pubmed.ncbi.nlm.nih.gov/33212010/</td>\n",
       "    </tr>\n",
       "    <tr>\n",
       "      <th>Ccrcc</th>\n",
       "      <td>clear cell renal cell carcinoma (kidney)</td>\n",
       "      <td>no restrictions</td>\n",
       "      <td>https://pubmed.ncbi.nlm.nih.gov/31675502/</td>\n",
       "    </tr>\n",
       "    <tr>\n",
       "      <th>Colon</th>\n",
       "      <td>colorectal cancer</td>\n",
       "      <td>no restrictions</td>\n",
       "      <td>https://pubmed.ncbi.nlm.nih.gov/31031003/</td>\n",
       "    </tr>\n",
       "    <tr>\n",
       "      <th>Endometrial</th>\n",
       "      <td>endometrial carcinoma (uterine)</td>\n",
       "      <td>no restrictions</td>\n",
       "      <td>https://pubmed.ncbi.nlm.nih.gov/32059776/</td>\n",
       "    </tr>\n",
       "    <tr>\n",
       "      <th>Gbm</th>\n",
       "      <td>glioblastoma</td>\n",
       "      <td>no restrictions</td>\n",
       "      <td>https://pubmed.ncbi.nlm.nih.gov/33577785/</td>\n",
       "    </tr>\n",
       "    <tr>\n",
       "      <th>Hnscc</th>\n",
       "      <td>head and neck squamous cell carcinoma</td>\n",
       "      <td>no restrictions</td>\n",
       "      <td>https://pubmed.ncbi.nlm.nih.gov/33417831/</td>\n",
       "    </tr>\n",
       "    <tr>\n",
       "      <th>Lscc</th>\n",
       "      <td>lung squamous cell carcinoma</td>\n",
       "      <td>no restrictions</td>\n",
       "      <td>https://pubmed.ncbi.nlm.nih.gov/34358469/</td>\n",
       "    </tr>\n",
       "    <tr>\n",
       "      <th>Luad</th>\n",
       "      <td>lung adenocarcinoma</td>\n",
       "      <td>no restrictions</td>\n",
       "      <td>https://pubmed.ncbi.nlm.nih.gov/32649874/</td>\n",
       "    </tr>\n",
       "    <tr>\n",
       "      <th>Ovarian</th>\n",
       "      <td>high grade serous ovarian cancer</td>\n",
       "      <td>no restrictions</td>\n",
       "      <td>https://pubmed.ncbi.nlm.nih.gov/27372738/</td>\n",
       "    </tr>\n",
       "    <tr>\n",
       "      <th>Pdac</th>\n",
       "      <td>pancreatic ductal adenocarcinoma</td>\n",
       "      <td>no restrictions</td>\n",
       "      <td>https://pubmed.ncbi.nlm.nih.gov/34534465/</td>\n",
       "    </tr>\n",
       "    <tr>\n",
       "      <th>UcecConf</th>\n",
       "      <td>endometrial confirmatory carcinoma</td>\n",
       "      <td>password access only</td>\n",
       "      <td>unpublished</td>\n",
       "    </tr>\n",
       "    <tr>\n",
       "      <th>GbmConf</th>\n",
       "      <td>glioblastoma confirmatory</td>\n",
       "      <td>password access only</td>\n",
       "      <td>unpublished</td>\n",
       "    </tr>\n",
       "  </tbody>\n",
       "</table>\n",
       "</div>"
      ],
      "text/plain": [
       "                                           Description     Data reuse status  \\\n",
       "Dataset name                                                                   \n",
       "Brca                                     breast cancer       no restrictions   \n",
       "Ccrcc         clear cell renal cell carcinoma (kidney)       no restrictions   \n",
       "Colon                                colorectal cancer       no restrictions   \n",
       "Endometrial            endometrial carcinoma (uterine)       no restrictions   \n",
       "Gbm                                       glioblastoma       no restrictions   \n",
       "Hnscc            head and neck squamous cell carcinoma       no restrictions   \n",
       "Lscc                      lung squamous cell carcinoma       no restrictions   \n",
       "Luad                               lung adenocarcinoma       no restrictions   \n",
       "Ovarian               high grade serous ovarian cancer       no restrictions   \n",
       "Pdac                  pancreatic ductal adenocarcinoma       no restrictions   \n",
       "UcecConf            endometrial confirmatory carcinoma  password access only   \n",
       "GbmConf                      glioblastoma confirmatory  password access only   \n",
       "\n",
       "                                       Publication link  \n",
       "Dataset name                                             \n",
       "Brca          https://pubmed.ncbi.nlm.nih.gov/33212010/  \n",
       "Ccrcc         https://pubmed.ncbi.nlm.nih.gov/31675502/  \n",
       "Colon         https://pubmed.ncbi.nlm.nih.gov/31031003/  \n",
       "Endometrial   https://pubmed.ncbi.nlm.nih.gov/32059776/  \n",
       "Gbm           https://pubmed.ncbi.nlm.nih.gov/33577785/  \n",
       "Hnscc         https://pubmed.ncbi.nlm.nih.gov/33417831/  \n",
       "Lscc          https://pubmed.ncbi.nlm.nih.gov/34358469/  \n",
       "Luad          https://pubmed.ncbi.nlm.nih.gov/32649874/  \n",
       "Ovarian       https://pubmed.ncbi.nlm.nih.gov/27372738/  \n",
       "Pdac          https://pubmed.ncbi.nlm.nih.gov/34534465/  \n",
       "UcecConf                                    unpublished  \n",
       "GbmConf                                     unpublished  "
      ]
     },
     "execution_count": 61,
     "metadata": {},
     "output_type": "execute_result"
    }
   ],
   "source": [
    "# 1. Import cptac\n",
    "import cptac\n",
    "# 2. Examine the data sets available with list_datasets()\n",
    "cptac.list_datasets()"
   ]
  },
  {
   "cell_type": "code",
   "execution_count": 60,
   "id": "aeb53aa2",
   "metadata": {},
   "outputs": [
    {
     "name": "stdout",
     "output_type": "stream",
     "text": [
      "                                         \r"
     ]
    }
   ],
   "source": [
    "# 3. Download the breast cancer data set -- fill in dataset!\n",
    "cptac.download(dataset=\"Brca\")\n",
    "\n",
    "# 4. Load the breast cancer data set\n",
    "brca = cptac.Brca()"
   ]
  },
  {
   "cell_type": "markdown",
   "id": "fadf54d4",
   "metadata": {},
   "source": [
    "Now, we have our brca object containing a bunch of data. We can use the list_data() function the data available for the breast cancer dataset.\n",
    "<br></br>\n",
    "In addition to the proteomics data, we can also accesss the accompanying transcriptomics, CNV, etc. using this object. We will focus on the broad proteomics data for this course; however, other data present in this dataset are also pretty interesting. Finally, many proteins can't be identified very well, so they won't appear as a column (for example, APC isn't in the proteomics data set).\n",
    "<br></br>\n",
    "**Exercise 1.1** Call the list_data() function from the brca object to examine the different data contained in the brca object. Much like calling functions from a package, we can use the brca.function() syntax.\n",
    "\n",
    "* How many patients do you think there are in this dataset? (Make an educated guess about this from the dimensions - we'll confirm your answer later on)"
   ]
  },
  {
   "cell_type": "code",
   "execution_count": 62,
   "id": "f96afeaf",
   "metadata": {},
   "outputs": [
    {
     "name": "stdout",
     "output_type": "stream",
     "text": [
      "Below are the dataframes contained in this dataset and their dimensions:\n",
      "\n",
      "acetylproteomics\n",
      "\t122 rows\n",
      "\t9868 columns\n",
      "clinical\n",
      "\t122 rows\n",
      "\t18 columns\n",
      "CNV\n",
      "\t122 rows\n",
      "\t23692 columns\n",
      "derived_molecular\n",
      "\t122 rows\n",
      "\t36 columns\n",
      "phosphoproteomics\n",
      "\t122 rows\n",
      "\t38775 columns\n",
      "proteomics\n",
      "\t122 rows\n",
      "\t10107 columns\n",
      "somatic_mutation\n",
      "\t24106 rows\n",
      "\t3 columns\n",
      "transcriptomics\n",
      "\t122 rows\n",
      "\t23121 columns\n"
     ]
    }
   ],
   "source": [
    "# Run the list_data() function\n",
    "brca.list_data()\n",
    "# 122 patients"
   ]
  },
  {
   "cell_type": "markdown",
   "id": "ab6034bd",
   "metadata": {},
   "source": [
    "**Exercise 1.2** Use the get_proteomics() function to store the proteomics data into a new data frame."
   ]
  },
  {
   "cell_type": "code",
   "execution_count": 67,
   "id": "2f7abc05",
   "metadata": {},
   "outputs": [],
   "source": [
    "protein_data = brca.get_proteomics() # get the proteomics data\n",
    "protein_data # view the data\n",
    "\n",
    "\n",
    "# Uncomment and run this command after you get the data, you don't really need to know what it does but it collapses\n",
    "# the column names and gets rid of the database_IDs which will make our lives much easier!\n",
    "\n",
    "protein_data.columns = protein_data.columns.get_level_values(0) \n"
   ]
  },
  {
   "cell_type": "markdown",
   "id": "1188f104",
   "metadata": {},
   "source": [
    "## (2) Exploring the Data\n",
    "\n",
    "As mentioned earlier, `cptac` data is in the form of `pandas` dataframes. Let's load that and `numpy`. \n",
    "\n",
    "**Exercise 2.1** Import numpy and pandas with their usual shortened names (pd and np)."
   ]
  },
  {
   "cell_type": "code",
   "execution_count": 64,
   "id": "8ace4453",
   "metadata": {
    "scrolled": true
   },
   "outputs": [],
   "source": [
    "# import packages here\n",
    "import numpy as np\n",
    "import pandas as pd"
   ]
  },
  {
   "cell_type": "markdown",
   "id": "2b18a548",
   "metadata": {},
   "source": [
    "Remember that we can access the rows/column names of a data frame in two ways:\n",
    "1. We can get the row and column names together in a list with the `axes` attribute.\n",
    "2. We can get the row or column names individually in the `index` (row) or `columns` (column) attribute.\n",
    "<br></br>\n",
    "**Exercise 2.2** Print the axes, index, and columns of the protein_data object. Then, determine its dimensions using the shape attribute. Finally, answer the following questions:\n",
    "\n",
    "* How many rows and columns are there in the data frame?\n",
    "* What do the rows and columns represent?\n",
    "* How many patients are there?\n",
    "* What about proteins?"
   ]
  },
  {
   "cell_type": "code",
   "execution_count": 65,
   "id": "1501f26c",
   "metadata": {},
   "outputs": [
    {
     "data": {
      "text/plain": [
       "Index(['A1BG', 'A2M', 'A2ML1', 'AAAS', 'AACS', 'AADAT', 'AAED1', 'AAGAB',\n",
       "       'AAK1', 'AAMDC',\n",
       "       ...\n",
       "       'ZSCAN31', 'ZSWIM8', 'ZW10', 'ZWILCH', 'ZWINT', 'ZXDC', 'ZYG11B', 'ZYX',\n",
       "       'ZZEF1', 'ZZZ3'],\n",
       "      dtype='object', name='Name', length=10107)"
      ]
     },
     "execution_count": 65,
     "metadata": {},
     "output_type": "execute_result"
    }
   ],
   "source": [
    "## Explore the data frame here and answer questions\n",
    "protein_data.shape\n",
    "protein_data.axes\n",
    "protein_data.index\n",
    "protein_data.columns\n",
    "# 122 rows and 10107 cols\n",
    "# each row represents a patient; each col represents a protein\n",
    "# 122 patients and 10107 proteins"
   ]
  },
  {
   "cell_type": "markdown",
   "id": "6db06758",
   "metadata": {},
   "source": [
    "Remember we can access data by name using `.loc[]` and `.iloc[]`. Since this dataset is really large, we won't really use `.iloc[]` which accesses by index. To get the protein expression information for a specific patient, therefore, we would run something like this: "
   ]
  },
  {
   "cell_type": "code",
   "execution_count": null,
   "id": "4fecd350",
   "metadata": {},
   "outputs": [],
   "source": [
    "protein_data.loc[\"patient ID\",\"protein name\"] # this is the general case, you have to fill in actual IDs/protein names"
   ]
  },
  {
   "cell_type": "markdown",
   "id": "0c4e080d",
   "metadata": {},
   "source": [
    "**Exercise 2.3** Remember that the numerical data in CPTAC is the relative fold change, not an absolute value/count. Given this, what kind of number would represent lower relative expression? What kind of number would represent higher relative expression? (Hint: reference level is 0) "
   ]
  },
  {
   "cell_type": "code",
   "execution_count": null,
   "id": "98e77185",
   "metadata": {},
   "outputs": [],
   "source": [
    "## Answer question in comment form here\n",
    "# negative number would represent lower relative expression and \n",
    "# positive number would represent higher relative expression"
   ]
  },
  {
   "cell_type": "markdown",
   "id": "ccdaaa65",
   "metadata": {},
   "source": [
    "**Exericse 2.4**\n",
    "\n",
    "Print the relative fold change of patient `X01BR008` in the `TP53` protein. Then, interpret this value -- does this patient have higher or lower protein levels than the reference? (Hint: use .loc[] and remember that a `:` can be used in either the row or column slot to access every row or every column.)\n"
   ]
  },
  {
   "cell_type": "code",
   "execution_count": 69,
   "id": "112a5055",
   "metadata": {},
   "outputs": [
    {
     "data": {
      "text/plain": [
       "1.9239"
      ]
     },
     "execution_count": 69,
     "metadata": {},
     "output_type": "execute_result"
    }
   ],
   "source": [
    "## write code here\n",
    "protein_data.loc['X01BR008', 'TP53']\n",
    "# this person has higher protein levels because 1.9239 is positive"
   ]
  },
  {
   "cell_type": "markdown",
   "id": "e66937a6",
   "metadata": {},
   "source": [
    "### Boolean indexing\n",
    "\n",
    "In R, we used the `ifelse()` function very heavily to assign categories, such as classifying patients as \"old\" or \"young\". In Python, we have the `where(COND, TRUE_VAL, FALSE_VAL)` function from numpy, which works extremely similarly to ifelse(). That is:\n",
    "\n",
    "   1. The first parameter is the condition (a boolean vector; i.e. Trues and Falses).\n",
    "   2. The second parameter is the value to fill the True conditions.\n",
    "   3. The third parameter is the value to fil lthe False conditions.\n",
    "    \n",
    "The following example (split into the four code blocks below) shows how to apply the `where()` function, in the context of telling if a number is odd or even."
   ]
  },
  {
   "cell_type": "code",
   "execution_count": 9,
   "id": "877c4f62",
   "metadata": {
    "scrolled": true
   },
   "outputs": [
    {
     "data": {
      "text/html": [
       "<div>\n",
       "<style scoped>\n",
       "    .dataframe tbody tr th:only-of-type {\n",
       "        vertical-align: middle;\n",
       "    }\n",
       "\n",
       "    .dataframe tbody tr th {\n",
       "        vertical-align: top;\n",
       "    }\n",
       "\n",
       "    .dataframe thead th {\n",
       "        text-align: right;\n",
       "    }\n",
       "</style>\n",
       "<table border=\"1\" class=\"dataframe\">\n",
       "  <thead>\n",
       "    <tr style=\"text-align: right;\">\n",
       "      <th></th>\n",
       "      <th>nums</th>\n",
       "    </tr>\n",
       "  </thead>\n",
       "  <tbody>\n",
       "    <tr>\n",
       "      <th>0</th>\n",
       "      <td>0</td>\n",
       "    </tr>\n",
       "    <tr>\n",
       "      <th>1</th>\n",
       "      <td>1</td>\n",
       "    </tr>\n",
       "    <tr>\n",
       "      <th>2</th>\n",
       "      <td>2</td>\n",
       "    </tr>\n",
       "    <tr>\n",
       "      <th>3</th>\n",
       "      <td>3</td>\n",
       "    </tr>\n",
       "    <tr>\n",
       "      <th>4</th>\n",
       "      <td>4</td>\n",
       "    </tr>\n",
       "    <tr>\n",
       "      <th>5</th>\n",
       "      <td>5</td>\n",
       "    </tr>\n",
       "  </tbody>\n",
       "</table>\n",
       "</div>"
      ],
      "text/plain": [
       "   nums\n",
       "0     0\n",
       "1     1\n",
       "2     2\n",
       "3     3\n",
       "4     4\n",
       "5     5"
      ]
     },
     "execution_count": 9,
     "metadata": {},
     "output_type": "execute_result"
    }
   ],
   "source": [
    "# first let's create our example array\n",
    "number_example_array = pd.DataFrame({\"nums\": [0, 1, 2, 3, 4, 5]})\n",
    "number_example_array"
   ]
  },
  {
   "cell_type": "code",
   "execution_count": 10,
   "id": "877ea8ef",
   "metadata": {},
   "outputs": [
    {
     "data": {
      "text/html": [
       "<div>\n",
       "<style scoped>\n",
       "    .dataframe tbody tr th:only-of-type {\n",
       "        vertical-align: middle;\n",
       "    }\n",
       "\n",
       "    .dataframe tbody tr th {\n",
       "        vertical-align: top;\n",
       "    }\n",
       "\n",
       "    .dataframe thead th {\n",
       "        text-align: right;\n",
       "    }\n",
       "</style>\n",
       "<table border=\"1\" class=\"dataframe\">\n",
       "  <thead>\n",
       "    <tr style=\"text-align: right;\">\n",
       "      <th></th>\n",
       "      <th>nums</th>\n",
       "    </tr>\n",
       "  </thead>\n",
       "  <tbody>\n",
       "    <tr>\n",
       "      <th>0</th>\n",
       "      <td>False</td>\n",
       "    </tr>\n",
       "    <tr>\n",
       "      <th>1</th>\n",
       "      <td>True</td>\n",
       "    </tr>\n",
       "    <tr>\n",
       "      <th>2</th>\n",
       "      <td>False</td>\n",
       "    </tr>\n",
       "    <tr>\n",
       "      <th>3</th>\n",
       "      <td>True</td>\n",
       "    </tr>\n",
       "    <tr>\n",
       "      <th>4</th>\n",
       "      <td>False</td>\n",
       "    </tr>\n",
       "    <tr>\n",
       "      <th>5</th>\n",
       "      <td>True</td>\n",
       "    </tr>\n",
       "  </tbody>\n",
       "</table>\n",
       "</div>"
      ],
      "text/plain": [
       "    nums\n",
       "0  False\n",
       "1   True\n",
       "2  False\n",
       "3   True\n",
       "4  False\n",
       "5   True"
      ]
     },
     "execution_count": 10,
     "metadata": {},
     "output_type": "execute_result"
    }
   ],
   "source": [
    "# now, let's make a boolean vector where odds will be True, evens will be False\n",
    "boolean_vector = (number_example_array % 2 == 1)\n",
    "boolean_vector"
   ]
  },
  {
   "cell_type": "code",
   "execution_count": 11,
   "id": "11f0d23e",
   "metadata": {},
   "outputs": [
    {
     "data": {
      "text/html": [
       "<div>\n",
       "<style scoped>\n",
       "    .dataframe tbody tr th:only-of-type {\n",
       "        vertical-align: middle;\n",
       "    }\n",
       "\n",
       "    .dataframe tbody tr th {\n",
       "        vertical-align: top;\n",
       "    }\n",
       "\n",
       "    .dataframe thead th {\n",
       "        text-align: right;\n",
       "    }\n",
       "</style>\n",
       "<table border=\"1\" class=\"dataframe\">\n",
       "  <thead>\n",
       "    <tr style=\"text-align: right;\">\n",
       "      <th></th>\n",
       "      <th>nums</th>\n",
       "      <th>boolean_vector</th>\n",
       "    </tr>\n",
       "  </thead>\n",
       "  <tbody>\n",
       "    <tr>\n",
       "      <th>0</th>\n",
       "      <td>0</td>\n",
       "      <td>False</td>\n",
       "    </tr>\n",
       "    <tr>\n",
       "      <th>1</th>\n",
       "      <td>1</td>\n",
       "      <td>True</td>\n",
       "    </tr>\n",
       "    <tr>\n",
       "      <th>2</th>\n",
       "      <td>2</td>\n",
       "      <td>False</td>\n",
       "    </tr>\n",
       "    <tr>\n",
       "      <th>3</th>\n",
       "      <td>3</td>\n",
       "      <td>True</td>\n",
       "    </tr>\n",
       "    <tr>\n",
       "      <th>4</th>\n",
       "      <td>4</td>\n",
       "      <td>False</td>\n",
       "    </tr>\n",
       "    <tr>\n",
       "      <th>5</th>\n",
       "      <td>5</td>\n",
       "      <td>True</td>\n",
       "    </tr>\n",
       "  </tbody>\n",
       "</table>\n",
       "</div>"
      ],
      "text/plain": [
       "   nums  boolean_vector\n",
       "0     0           False\n",
       "1     1            True\n",
       "2     2           False\n",
       "3     3            True\n",
       "4     4           False\n",
       "5     5            True"
      ]
     },
     "execution_count": 11,
     "metadata": {},
     "output_type": "execute_result"
    }
   ],
   "source": [
    "# then add this vector as a column in our array (we could do this and the above in one step)\n",
    "number_example_array[\"boolean_vector\"] = boolean_vector\n",
    "number_example_array"
   ]
  },
  {
   "cell_type": "code",
   "execution_count": 12,
   "id": "e85d10e5",
   "metadata": {},
   "outputs": [
    {
     "data": {
      "text/html": [
       "<div>\n",
       "<style scoped>\n",
       "    .dataframe tbody tr th:only-of-type {\n",
       "        vertical-align: middle;\n",
       "    }\n",
       "\n",
       "    .dataframe tbody tr th {\n",
       "        vertical-align: top;\n",
       "    }\n",
       "\n",
       "    .dataframe thead th {\n",
       "        text-align: right;\n",
       "    }\n",
       "</style>\n",
       "<table border=\"1\" class=\"dataframe\">\n",
       "  <thead>\n",
       "    <tr style=\"text-align: right;\">\n",
       "      <th></th>\n",
       "      <th>nums</th>\n",
       "      <th>boolean_vector</th>\n",
       "      <th>parity</th>\n",
       "    </tr>\n",
       "  </thead>\n",
       "  <tbody>\n",
       "    <tr>\n",
       "      <th>0</th>\n",
       "      <td>0</td>\n",
       "      <td>False</td>\n",
       "      <td>Even</td>\n",
       "    </tr>\n",
       "    <tr>\n",
       "      <th>1</th>\n",
       "      <td>1</td>\n",
       "      <td>True</td>\n",
       "      <td>Odd</td>\n",
       "    </tr>\n",
       "    <tr>\n",
       "      <th>2</th>\n",
       "      <td>2</td>\n",
       "      <td>False</td>\n",
       "      <td>Even</td>\n",
       "    </tr>\n",
       "    <tr>\n",
       "      <th>3</th>\n",
       "      <td>3</td>\n",
       "      <td>True</td>\n",
       "      <td>Odd</td>\n",
       "    </tr>\n",
       "    <tr>\n",
       "      <th>4</th>\n",
       "      <td>4</td>\n",
       "      <td>False</td>\n",
       "      <td>Even</td>\n",
       "    </tr>\n",
       "    <tr>\n",
       "      <th>5</th>\n",
       "      <td>5</td>\n",
       "      <td>True</td>\n",
       "      <td>Odd</td>\n",
       "    </tr>\n",
       "  </tbody>\n",
       "</table>\n",
       "</div>"
      ],
      "text/plain": [
       "   nums  boolean_vector parity\n",
       "0     0           False   Even\n",
       "1     1            True    Odd\n",
       "2     2           False   Even\n",
       "3     3            True    Odd\n",
       "4     4           False   Even\n",
       "5     5            True    Odd"
      ]
     },
     "execution_count": 12,
     "metadata": {},
     "output_type": "execute_result"
    }
   ],
   "source": [
    "# lastly, let's add a third column called \"parity\" that says based off of \"boolean_vector\" if our value is odd/even\n",
    "number_example_array[\"parity\"] = np.where(boolean_vector, \"Odd\", \"Even\")\n",
    "number_example_array"
   ]
  },
  {
   "cell_type": "markdown",
   "id": "3ae3e913",
   "metadata": {},
   "source": [
    "**Exercise 2.5** Access the following:\n",
    "\n",
    "1. Use boolean indexing to access the patient IDs with high (≥1) `TP53` expression. Save this in a pandas DataFrame called `high_TP53`. HINTS:\n",
    "    * Think about if protein expression information will be contained in a row or a column!\n",
    "    * Create a boolean mask with the row/column that contains the expression information of `TP53`.\n",
    "    * Apply the mask to the row/column names that contains the patient IDs.\n",
    "2. How many patients are there in `high_TP53`? Which axis (columns or rows) represents proteins?\n",
    "3. Add a column to `high_TP53` that has the values \"High\"/\"Average\"/\"Low\" based on ARF1 expression.\n",
    "4. How many patients have high expression of both `TP53` and average expression of `ARF1`?"
   ]
  },
  {
   "cell_type": "code",
   "execution_count": 70,
   "id": "d71d7b15",
   "metadata": {},
   "outputs": [
    {
     "data": {
      "text/html": [
       "<div>\n",
       "<style scoped>\n",
       "    .dataframe tbody tr th:only-of-type {\n",
       "        vertical-align: middle;\n",
       "    }\n",
       "\n",
       "    .dataframe tbody tr th {\n",
       "        vertical-align: top;\n",
       "    }\n",
       "\n",
       "    .dataframe thead th {\n",
       "        text-align: right;\n",
       "    }\n",
       "</style>\n",
       "<table border=\"1\" class=\"dataframe\">\n",
       "  <thead>\n",
       "    <tr style=\"text-align: right;\">\n",
       "      <th>Name</th>\n",
       "      <th>A1BG</th>\n",
       "      <th>A2M</th>\n",
       "      <th>A2ML1</th>\n",
       "      <th>AAAS</th>\n",
       "      <th>AACS</th>\n",
       "      <th>AADAT</th>\n",
       "      <th>AAED1</th>\n",
       "      <th>AAGAB</th>\n",
       "      <th>AAK1</th>\n",
       "      <th>AAMDC</th>\n",
       "      <th>...</th>\n",
       "      <th>ZSCAN31</th>\n",
       "      <th>ZSWIM8</th>\n",
       "      <th>ZW10</th>\n",
       "      <th>ZWILCH</th>\n",
       "      <th>ZWINT</th>\n",
       "      <th>ZXDC</th>\n",
       "      <th>ZYG11B</th>\n",
       "      <th>ZYX</th>\n",
       "      <th>ZZEF1</th>\n",
       "      <th>ZZZ3</th>\n",
       "    </tr>\n",
       "    <tr>\n",
       "      <th>Patient_ID</th>\n",
       "      <th></th>\n",
       "      <th></th>\n",
       "      <th></th>\n",
       "      <th></th>\n",
       "      <th></th>\n",
       "      <th></th>\n",
       "      <th></th>\n",
       "      <th></th>\n",
       "      <th></th>\n",
       "      <th></th>\n",
       "      <th></th>\n",
       "      <th></th>\n",
       "      <th></th>\n",
       "      <th></th>\n",
       "      <th></th>\n",
       "      <th></th>\n",
       "      <th></th>\n",
       "      <th></th>\n",
       "      <th></th>\n",
       "      <th></th>\n",
       "      <th></th>\n",
       "    </tr>\n",
       "  </thead>\n",
       "  <tbody>\n",
       "    <tr>\n",
       "      <th>CPT000814</th>\n",
       "      <td>-0.6712</td>\n",
       "      <td>-0.2075</td>\n",
       "      <td>2.7959</td>\n",
       "      <td>1.3969</td>\n",
       "      <td>-1.0899</td>\n",
       "      <td>NaN</td>\n",
       "      <td>1.6708</td>\n",
       "      <td>-0.3484</td>\n",
       "      <td>-0.4756</td>\n",
       "      <td>-0.7299</td>\n",
       "      <td>...</td>\n",
       "      <td>-5.2868</td>\n",
       "      <td>-0.6536</td>\n",
       "      <td>0.3384</td>\n",
       "      <td>2.1169</td>\n",
       "      <td>1.3910</td>\n",
       "      <td>-2.1230</td>\n",
       "      <td>0.9136</td>\n",
       "      <td>-0.8082</td>\n",
       "      <td>-1.4793</td>\n",
       "      <td>0.9136</td>\n",
       "    </tr>\n",
       "    <tr>\n",
       "      <th>X01BR008</th>\n",
       "      <td>-0.5290</td>\n",
       "      <td>0.3267</td>\n",
       "      <td>1.4342</td>\n",
       "      <td>0.4938</td>\n",
       "      <td>-2.8676</td>\n",
       "      <td>NaN</td>\n",
       "      <td>NaN</td>\n",
       "      <td>-1.0691</td>\n",
       "      <td>-0.3643</td>\n",
       "      <td>-1.8173</td>\n",
       "      <td>...</td>\n",
       "      <td>-2.1789</td>\n",
       "      <td>0.2695</td>\n",
       "      <td>0.1506</td>\n",
       "      <td>1.0498</td>\n",
       "      <td>0.7546</td>\n",
       "      <td>1.7889</td>\n",
       "      <td>-0.2499</td>\n",
       "      <td>-0.2590</td>\n",
       "      <td>-0.1263</td>\n",
       "      <td>0.3725</td>\n",
       "    </tr>\n",
       "    <tr>\n",
       "      <th>X01BR009</th>\n",
       "      <td>1.2556</td>\n",
       "      <td>3.4489</td>\n",
       "      <td>2.8043</td>\n",
       "      <td>-0.2956</td>\n",
       "      <td>-1.7261</td>\n",
       "      <td>NaN</td>\n",
       "      <td>NaN</td>\n",
       "      <td>-2.0471</td>\n",
       "      <td>-0.3547</td>\n",
       "      <td>-0.8298</td>\n",
       "      <td>...</td>\n",
       "      <td>-2.3990</td>\n",
       "      <td>-0.2596</td>\n",
       "      <td>0.1898</td>\n",
       "      <td>-0.5010</td>\n",
       "      <td>-0.4189</td>\n",
       "      <td>0.3080</td>\n",
       "      <td>0.5057</td>\n",
       "      <td>0.2181</td>\n",
       "      <td>-0.2288</td>\n",
       "      <td>-0.2750</td>\n",
       "    </tr>\n",
       "    <tr>\n",
       "      <th>X01BR018</th>\n",
       "      <td>1.9579</td>\n",
       "      <td>2.4185</td>\n",
       "      <td>1.1549</td>\n",
       "      <td>0.0683</td>\n",
       "      <td>-3.3943</td>\n",
       "      <td>1.1572</td>\n",
       "      <td>NaN</td>\n",
       "      <td>-0.4773</td>\n",
       "      <td>-1.1339</td>\n",
       "      <td>0.4581</td>\n",
       "      <td>...</td>\n",
       "      <td>0.0542</td>\n",
       "      <td>0.2124</td>\n",
       "      <td>-0.6686</td>\n",
       "      <td>0.5360</td>\n",
       "      <td>0.8360</td>\n",
       "      <td>NaN</td>\n",
       "      <td>0.3872</td>\n",
       "      <td>-0.5221</td>\n",
       "      <td>-0.1490</td>\n",
       "      <td>1.3674</td>\n",
       "    </tr>\n",
       "    <tr>\n",
       "      <th>X01BR027</th>\n",
       "      <td>-0.2538</td>\n",
       "      <td>1.6724</td>\n",
       "      <td>5.3316</td>\n",
       "      <td>1.0390</td>\n",
       "      <td>-2.0366</td>\n",
       "      <td>-0.0884</td>\n",
       "      <td>0.4793</td>\n",
       "      <td>0.0829</td>\n",
       "      <td>-0.2199</td>\n",
       "      <td>-1.0067</td>\n",
       "      <td>...</td>\n",
       "      <td>-4.2915</td>\n",
       "      <td>-0.5008</td>\n",
       "      <td>1.0470</td>\n",
       "      <td>0.3797</td>\n",
       "      <td>0.4653</td>\n",
       "      <td>0.6924</td>\n",
       "      <td>-0.0426</td>\n",
       "      <td>-0.2040</td>\n",
       "      <td>-1.0008</td>\n",
       "      <td>0.4036</td>\n",
       "    </tr>\n",
       "    <tr>\n",
       "      <th>X03BR006</th>\n",
       "      <td>-1.8078</td>\n",
       "      <td>-1.3432</td>\n",
       "      <td>1.5244</td>\n",
       "      <td>0.9868</td>\n",
       "      <td>-1.0213</td>\n",
       "      <td>NaN</td>\n",
       "      <td>NaN</td>\n",
       "      <td>-1.7108</td>\n",
       "      <td>-0.5038</td>\n",
       "      <td>-2.3528</td>\n",
       "      <td>...</td>\n",
       "      <td>-1.6615</td>\n",
       "      <td>-0.4434</td>\n",
       "      <td>0.4015</td>\n",
       "      <td>0.7380</td>\n",
       "      <td>1.1971</td>\n",
       "      <td>0.6393</td>\n",
       "      <td>-0.5385</td>\n",
       "      <td>0.1729</td>\n",
       "      <td>-0.3666</td>\n",
       "      <td>-0.4233</td>\n",
       "    </tr>\n",
       "    <tr>\n",
       "      <th>X05BR001</th>\n",
       "      <td>-0.5433</td>\n",
       "      <td>0.2689</td>\n",
       "      <td>-3.7788</td>\n",
       "      <td>-0.3203</td>\n",
       "      <td>-5.1510</td>\n",
       "      <td>0.6458</td>\n",
       "      <td>-1.8199</td>\n",
       "      <td>0.3194</td>\n",
       "      <td>0.4998</td>\n",
       "      <td>-0.2009</td>\n",
       "      <td>...</td>\n",
       "      <td>-1.2413</td>\n",
       "      <td>0.3326</td>\n",
       "      <td>0.0141</td>\n",
       "      <td>-0.0708</td>\n",
       "      <td>0.3618</td>\n",
       "      <td>-0.8671</td>\n",
       "      <td>-0.0443</td>\n",
       "      <td>1.9570</td>\n",
       "      <td>-0.4398</td>\n",
       "      <td>-0.0761</td>\n",
       "    </tr>\n",
       "    <tr>\n",
       "      <th>X09BR004</th>\n",
       "      <td>-0.8516</td>\n",
       "      <td>-0.0405</td>\n",
       "      <td>-2.6649</td>\n",
       "      <td>0.2353</td>\n",
       "      <td>-0.3737</td>\n",
       "      <td>-0.8489</td>\n",
       "      <td>NaN</td>\n",
       "      <td>-0.1252</td>\n",
       "      <td>-0.4256</td>\n",
       "      <td>-3.4295</td>\n",
       "      <td>...</td>\n",
       "      <td>-1.3950</td>\n",
       "      <td>0.0550</td>\n",
       "      <td>0.9153</td>\n",
       "      <td>2.4992</td>\n",
       "      <td>3.2447</td>\n",
       "      <td>-0.0596</td>\n",
       "      <td>1.1064</td>\n",
       "      <td>-0.6249</td>\n",
       "      <td>0.1233</td>\n",
       "      <td>-0.9581</td>\n",
       "    </tr>\n",
       "    <tr>\n",
       "      <th>X11BR024</th>\n",
       "      <td>-1.5691</td>\n",
       "      <td>0.6150</td>\n",
       "      <td>-3.6298</td>\n",
       "      <td>0.4059</td>\n",
       "      <td>0.6553</td>\n",
       "      <td>-0.1684</td>\n",
       "      <td>NaN</td>\n",
       "      <td>-0.6950</td>\n",
       "      <td>0.2044</td>\n",
       "      <td>1.6932</td>\n",
       "      <td>...</td>\n",
       "      <td>-0.3070</td>\n",
       "      <td>-0.3423</td>\n",
       "      <td>-0.0727</td>\n",
       "      <td>1.1138</td>\n",
       "      <td>0.0432</td>\n",
       "      <td>NaN</td>\n",
       "      <td>-0.7201</td>\n",
       "      <td>0.0507</td>\n",
       "      <td>-0.3347</td>\n",
       "      <td>0.2699</td>\n",
       "    </tr>\n",
       "  </tbody>\n",
       "</table>\n",
       "<p>9 rows × 10107 columns</p>\n",
       "</div>"
      ],
      "text/plain": [
       "Name          A1BG     A2M   A2ML1    AAAS    AACS   AADAT   AAED1   AAGAB  \\\n",
       "Patient_ID                                                                   \n",
       "CPT000814  -0.6712 -0.2075  2.7959  1.3969 -1.0899     NaN  1.6708 -0.3484   \n",
       "X01BR008   -0.5290  0.3267  1.4342  0.4938 -2.8676     NaN     NaN -1.0691   \n",
       "X01BR009    1.2556  3.4489  2.8043 -0.2956 -1.7261     NaN     NaN -2.0471   \n",
       "X01BR018    1.9579  2.4185  1.1549  0.0683 -3.3943  1.1572     NaN -0.4773   \n",
       "X01BR027   -0.2538  1.6724  5.3316  1.0390 -2.0366 -0.0884  0.4793  0.0829   \n",
       "X03BR006   -1.8078 -1.3432  1.5244  0.9868 -1.0213     NaN     NaN -1.7108   \n",
       "X05BR001   -0.5433  0.2689 -3.7788 -0.3203 -5.1510  0.6458 -1.8199  0.3194   \n",
       "X09BR004   -0.8516 -0.0405 -2.6649  0.2353 -0.3737 -0.8489     NaN -0.1252   \n",
       "X11BR024   -1.5691  0.6150 -3.6298  0.4059  0.6553 -0.1684     NaN -0.6950   \n",
       "\n",
       "Name          AAK1   AAMDC  ...  ZSCAN31  ZSWIM8    ZW10  ZWILCH   ZWINT  \\\n",
       "Patient_ID                  ...                                            \n",
       "CPT000814  -0.4756 -0.7299  ...  -5.2868 -0.6536  0.3384  2.1169  1.3910   \n",
       "X01BR008   -0.3643 -1.8173  ...  -2.1789  0.2695  0.1506  1.0498  0.7546   \n",
       "X01BR009   -0.3547 -0.8298  ...  -2.3990 -0.2596  0.1898 -0.5010 -0.4189   \n",
       "X01BR018   -1.1339  0.4581  ...   0.0542  0.2124 -0.6686  0.5360  0.8360   \n",
       "X01BR027   -0.2199 -1.0067  ...  -4.2915 -0.5008  1.0470  0.3797  0.4653   \n",
       "X03BR006   -0.5038 -2.3528  ...  -1.6615 -0.4434  0.4015  0.7380  1.1971   \n",
       "X05BR001    0.4998 -0.2009  ...  -1.2413  0.3326  0.0141 -0.0708  0.3618   \n",
       "X09BR004   -0.4256 -3.4295  ...  -1.3950  0.0550  0.9153  2.4992  3.2447   \n",
       "X11BR024    0.2044  1.6932  ...  -0.3070 -0.3423 -0.0727  1.1138  0.0432   \n",
       "\n",
       "Name          ZXDC  ZYG11B     ZYX   ZZEF1    ZZZ3  \n",
       "Patient_ID                                          \n",
       "CPT000814  -2.1230  0.9136 -0.8082 -1.4793  0.9136  \n",
       "X01BR008    1.7889 -0.2499 -0.2590 -0.1263  0.3725  \n",
       "X01BR009    0.3080  0.5057  0.2181 -0.2288 -0.2750  \n",
       "X01BR018       NaN  0.3872 -0.5221 -0.1490  1.3674  \n",
       "X01BR027    0.6924 -0.0426 -0.2040 -1.0008  0.4036  \n",
       "X03BR006    0.6393 -0.5385  0.1729 -0.3666 -0.4233  \n",
       "X05BR001   -0.8671 -0.0443  1.9570 -0.4398 -0.0761  \n",
       "X09BR004   -0.0596  1.1064 -0.6249  0.1233 -0.9581  \n",
       "X11BR024       NaN -0.7201  0.0507 -0.3347  0.2699  \n",
       "\n",
       "[9 rows x 10107 columns]"
      ]
     },
     "execution_count": 70,
     "metadata": {},
     "output_type": "execute_result"
    }
   ],
   "source": [
    "# write code here\n",
    "high_TP53_mask = protein_data.loc[:, 'TP53'] >= 1\n",
    "high_TP53 = protein_data.loc[high_TP53_mask, :]\n",
    "# high_TP53\n",
    "# 11 patients, columns represents proteins\n",
    "ARF1_expression = np.where(high_TP53.loc[:, 'ARF1'] > 1, 'High', \\\n",
    "                          np.where(high_TP53.loc[:, 'ARF1'] <-1, 'Low', 'Average'))\n",
    "high_TP53.loc[ARF1_expression == 'Average']\n",
    "# 9 patients have high TP53 and average ARF1"
   ]
  },
  {
   "cell_type": "markdown",
   "id": "5e91a353",
   "metadata": {},
   "source": [
    "## (3) Additional data in CPTAC\n",
    "\n",
    "You can also access other data using the `cptac` python package for the same patients, using the corresponding get function.\n",
    "\n",
    "**Exercise 3.1** Access the RNA (transcriptomics) and clinical data from the brca object. The function name is very similar in syntax to the get_proteomics() function from before!"
   ]
  },
  {
   "cell_type": "code",
   "execution_count": 113,
   "id": "26ae7024",
   "metadata": {},
   "outputs": [],
   "source": [
    "rna_data = brca.get_transcriptomics()\n",
    "clinical_data = brca.get_clinical()"
   ]
  },
  {
   "cell_type": "markdown",
   "id": "7d217ca6",
   "metadata": {},
   "source": [
    "**Exercise 3.2** Examine these dataframes. In particular:\n",
    "\n",
    "* What do the values in the rna_data data frame represent?\n",
    "* Compare the dimensions of the high_TP53, rna_data, and clinical_data. Are they equal?"
   ]
  },
  {
   "cell_type": "code",
   "execution_count": 72,
   "id": "0ef35657",
   "metadata": {},
   "outputs": [
    {
     "data": {
      "text/plain": [
       "(122, 18)"
      ]
     },
     "execution_count": 72,
     "metadata": {},
     "output_type": "execute_result"
    }
   ],
   "source": [
    "# explore the data frames using shape, axes, and other functions we've gone over.\n",
    "high_TP53.shape\n",
    "rna_data.shape # represent the RNA expression of different genes for each patients\n",
    "clinical_data.shape\n",
    "# the dimensions are not equal"
   ]
  },
  {
   "cell_type": "markdown",
   "id": "67f6107d",
   "metadata": {},
   "source": [
    "The dimensions for each dataframe might not be equal depending on if you masked some patients. That's where the `intersect1d()` function from numpy becomes really useful, especially if we want to analyze transcriptomics, proteomics, and clinical data together. This lets us see which patient barcodes are shared between the data frames.\n",
    "\n",
    "\n",
    "Let's take a look at all of the patients who are older than 50 years old at the time of diagnosis. \n",
    "**Exercise 3.3**\n",
    "1.  Use the clinical data DataFrame to create a boolean mask for the condition of patients being older than 50.\n",
    "2.  Mask the clinical data and assign it to a DataFrame called 'masked_clinical'."
   ]
  },
  {
   "cell_type": "code",
   "execution_count": 114,
   "id": "27343c31",
   "metadata": {},
   "outputs": [],
   "source": [
    "# write code here\n",
    "clinical_age_mask = clinical_data.loc[:, 'Age.in.Month'] > 12*50\n",
    "masked_clinical = clinical_data[clinical_age_mask]"
   ]
  },
  {
   "cell_type": "markdown",
   "id": "d356f73c",
   "metadata": {},
   "source": [
    "Now that we have masked our data, if we tried to do an analysis using the different data frames, we would get a lot of errors since we are now missing some patients in our masked_clinical data frame. If we want to get the patients who are present in the masked data as well as the rna_data and protein_data, we can use intersect1d().\n",
    "\n",
    "**Exercise 3.4**\n",
    "1. Use `intersect1d()` from np to create a list that contains the patient IDs for each pair of data frames as mentioned below. (Hint: this function takes two 1d arrays, which would be patient IDs from two different dataframes. How do we get this from each dataframe? Are patient IDs rows or columns?) \n",
    "2. Use a for loop to print the lengths of these three data frames, and compare them to the number of rows. The for loop skeleton is below. What do you notice about the three lengths? Do the numbers correspond to anything in particular?\n",
    "3. Finally, identify which intersection contains the patient IDs where there is data for all three levels of data (proteomics, transcriptomics, and clinical). How can we tell?"
   ]
  },
  {
   "cell_type": "code",
   "execution_count": 74,
   "id": "6daf99fa",
   "metadata": {},
   "outputs": [
    {
     "name": "stdout",
     "output_type": "stream",
     "text": [
      "The length of Protein/RNA is 122\n",
      "The length of Protein/Clinical is 79\n",
      "The length of RNA/Clinical is 79\n"
     ]
    }
   ],
   "source": [
    "# 1.\n",
    "name_intersects = [\n",
    "    np.intersect1d(protein_data.index, rna_data.index), # 0. fill in intersecting for protein/rna here using intersect1d()\n",
    "    np.intersect1d(protein_data.index, masked_clinical.index), # 1. fill in intersecting for protein/masked clinical here\n",
    "    np.intersect1d(rna_data.index, masked_clinical.index), # 2. fill in the intersecting for rna/masked clinical here\n",
    "]\n",
    "names = ['Protein/RNA', 'Protein/Clinical', 'RNA/Clinical']\n",
    "# 2. Print the lengths here\n",
    "# write a for loop here\n",
    "for n in range(len(name_intersects)):\n",
    "    print(f\"The length of {names[n]} is {len(name_intersects[n])}\")  # fill in here\n",
    "    \n",
    "# 3. Which comparison(s) contain the patient names that have all three levels?\n",
    "# protein/RNA because it's the largest & the length is equal to the # of patients"
   ]
  },
  {
   "cell_type": "markdown",
   "id": "f34fa008",
   "metadata": {},
   "source": [
    "## (4) Examining the Clinical Data"
   ]
  },
  {
   "cell_type": "markdown",
   "id": "1c16ae96",
   "metadata": {},
   "source": [
    "Let's explore the clinical data in more detail.\n",
    "\n",
    "First, use head() to glance as to what data is available."
   ]
  },
  {
   "cell_type": "code",
   "execution_count": 75,
   "id": "60fe1771",
   "metadata": {},
   "outputs": [
    {
     "data": {
      "text/html": [
       "<div>\n",
       "<style scoped>\n",
       "    .dataframe tbody tr th:only-of-type {\n",
       "        vertical-align: middle;\n",
       "    }\n",
       "\n",
       "    .dataframe tbody tr th {\n",
       "        vertical-align: top;\n",
       "    }\n",
       "\n",
       "    .dataframe thead th {\n",
       "        text-align: right;\n",
       "    }\n",
       "</style>\n",
       "<table border=\"1\" class=\"dataframe\">\n",
       "  <thead>\n",
       "    <tr style=\"text-align: right;\">\n",
       "      <th>Name</th>\n",
       "      <th>Replicate_Measurement_IDs</th>\n",
       "      <th>Sample_Tumor_Normal</th>\n",
       "      <th>TMT.Plex</th>\n",
       "      <th>TMT.Channel</th>\n",
       "      <th>Stage</th>\n",
       "      <th>Ischemia.Time.in.Minutes</th>\n",
       "      <th>PAM50</th>\n",
       "      <th>NMF.Cluster</th>\n",
       "      <th>NMF.Cluster.Membership.Score</th>\n",
       "      <th>Age.in.Month</th>\n",
       "      <th>Gender</th>\n",
       "      <th>Ethnicity</th>\n",
       "      <th>ER.Updated.Clinical.Status</th>\n",
       "      <th>PR.Clinical.Status</th>\n",
       "      <th>ERBB2.Updated.Clinical.Status</th>\n",
       "      <th>TNBC.Updated.Clinical.Status</th>\n",
       "      <th>ERBB2.Proteogenomic.Status</th>\n",
       "      <th>TOP2A.Proteogenomic.Status</th>\n",
       "    </tr>\n",
       "    <tr>\n",
       "      <th>Patient_ID</th>\n",
       "      <th></th>\n",
       "      <th></th>\n",
       "      <th></th>\n",
       "      <th></th>\n",
       "      <th></th>\n",
       "      <th></th>\n",
       "      <th></th>\n",
       "      <th></th>\n",
       "      <th></th>\n",
       "      <th></th>\n",
       "      <th></th>\n",
       "      <th></th>\n",
       "      <th></th>\n",
       "      <th></th>\n",
       "      <th></th>\n",
       "      <th></th>\n",
       "      <th></th>\n",
       "      <th></th>\n",
       "    </tr>\n",
       "  </thead>\n",
       "  <tbody>\n",
       "    <tr>\n",
       "      <th>CPT000814</th>\n",
       "      <td>CPT000814</td>\n",
       "      <td>Tumor</td>\n",
       "      <td>13</td>\n",
       "      <td>127C</td>\n",
       "      <td>Stage IIA</td>\n",
       "      <td>NaN</td>\n",
       "      <td>Basal</td>\n",
       "      <td>Basal-I</td>\n",
       "      <td>1.000</td>\n",
       "      <td>NaN</td>\n",
       "      <td>NaN</td>\n",
       "      <td>black.or.african.american</td>\n",
       "      <td>negative</td>\n",
       "      <td>negative</td>\n",
       "      <td>NaN</td>\n",
       "      <td>positive</td>\n",
       "      <td>negative</td>\n",
       "      <td>negative</td>\n",
       "    </tr>\n",
       "    <tr>\n",
       "      <th>CPT001846</th>\n",
       "      <td>CPT001846</td>\n",
       "      <td>Tumor</td>\n",
       "      <td>12</td>\n",
       "      <td>128C</td>\n",
       "      <td>Stage III</td>\n",
       "      <td>NaN</td>\n",
       "      <td>Basal</td>\n",
       "      <td>Basal-I</td>\n",
       "      <td>0.672</td>\n",
       "      <td>NaN</td>\n",
       "      <td>NaN</td>\n",
       "      <td>white</td>\n",
       "      <td>negative</td>\n",
       "      <td>negative</td>\n",
       "      <td>NaN</td>\n",
       "      <td>positive</td>\n",
       "      <td>negative</td>\n",
       "      <td>negative</td>\n",
       "    </tr>\n",
       "    <tr>\n",
       "      <th>X01BR001</th>\n",
       "      <td>X01BR001</td>\n",
       "      <td>Tumor</td>\n",
       "      <td>2</td>\n",
       "      <td>129N</td>\n",
       "      <td>Stage IIB</td>\n",
       "      <td>0.0</td>\n",
       "      <td>Basal</td>\n",
       "      <td>Basal-I</td>\n",
       "      <td>0.782</td>\n",
       "      <td>660.0</td>\n",
       "      <td>female</td>\n",
       "      <td>black.or.african.american</td>\n",
       "      <td>negative</td>\n",
       "      <td>negative</td>\n",
       "      <td>negative</td>\n",
       "      <td>positive</td>\n",
       "      <td>negative</td>\n",
       "      <td>negative</td>\n",
       "    </tr>\n",
       "    <tr>\n",
       "      <th>X01BR008</th>\n",
       "      <td>X01BR008</td>\n",
       "      <td>Tumor</td>\n",
       "      <td>16</td>\n",
       "      <td>127C</td>\n",
       "      <td>NaN</td>\n",
       "      <td>NaN</td>\n",
       "      <td>Basal</td>\n",
       "      <td>Basal-I</td>\n",
       "      <td>0.958</td>\n",
       "      <td>NaN</td>\n",
       "      <td>NaN</td>\n",
       "      <td>NaN</td>\n",
       "      <td>NaN</td>\n",
       "      <td>NaN</td>\n",
       "      <td>NaN</td>\n",
       "      <td>NaN</td>\n",
       "      <td>negative</td>\n",
       "      <td>negative</td>\n",
       "    </tr>\n",
       "    <tr>\n",
       "      <th>X01BR009</th>\n",
       "      <td>X01BR009</td>\n",
       "      <td>Tumor</td>\n",
       "      <td>16</td>\n",
       "      <td>127N</td>\n",
       "      <td>NaN</td>\n",
       "      <td>NaN</td>\n",
       "      <td>Basal</td>\n",
       "      <td>Basal-I</td>\n",
       "      <td>0.825</td>\n",
       "      <td>NaN</td>\n",
       "      <td>NaN</td>\n",
       "      <td>NaN</td>\n",
       "      <td>negative</td>\n",
       "      <td>negative</td>\n",
       "      <td>NaN</td>\n",
       "      <td>positive</td>\n",
       "      <td>negative</td>\n",
       "      <td>negative</td>\n",
       "    </tr>\n",
       "  </tbody>\n",
       "</table>\n",
       "</div>"
      ],
      "text/plain": [
       "Name       Replicate_Measurement_IDs Sample_Tumor_Normal TMT.Plex TMT.Channel  \\\n",
       "Patient_ID                                                                      \n",
       "CPT000814                  CPT000814               Tumor       13        127C   \n",
       "CPT001846                  CPT001846               Tumor       12        128C   \n",
       "X01BR001                    X01BR001               Tumor        2        129N   \n",
       "X01BR008                    X01BR008               Tumor       16        127C   \n",
       "X01BR009                    X01BR009               Tumor       16        127N   \n",
       "\n",
       "Name            Stage  Ischemia.Time.in.Minutes  PAM50 NMF.Cluster  \\\n",
       "Patient_ID                                                           \n",
       "CPT000814   Stage IIA                       NaN  Basal     Basal-I   \n",
       "CPT001846   Stage III                       NaN  Basal     Basal-I   \n",
       "X01BR001    Stage IIB                       0.0  Basal     Basal-I   \n",
       "X01BR008          NaN                       NaN  Basal     Basal-I   \n",
       "X01BR009          NaN                       NaN  Basal     Basal-I   \n",
       "\n",
       "Name        NMF.Cluster.Membership.Score  Age.in.Month  Gender  \\\n",
       "Patient_ID                                                       \n",
       "CPT000814                          1.000           NaN     NaN   \n",
       "CPT001846                          0.672           NaN     NaN   \n",
       "X01BR001                           0.782         660.0  female   \n",
       "X01BR008                           0.958           NaN     NaN   \n",
       "X01BR009                           0.825           NaN     NaN   \n",
       "\n",
       "Name                        Ethnicity ER.Updated.Clinical.Status  \\\n",
       "Patient_ID                                                         \n",
       "CPT000814   black.or.african.american                   negative   \n",
       "CPT001846                       white                   negative   \n",
       "X01BR001    black.or.african.american                   negative   \n",
       "X01BR008                          NaN                        NaN   \n",
       "X01BR009                          NaN                   negative   \n",
       "\n",
       "Name       PR.Clinical.Status ERBB2.Updated.Clinical.Status  \\\n",
       "Patient_ID                                                    \n",
       "CPT000814            negative                           NaN   \n",
       "CPT001846            negative                           NaN   \n",
       "X01BR001             negative                      negative   \n",
       "X01BR008                  NaN                           NaN   \n",
       "X01BR009             negative                           NaN   \n",
       "\n",
       "Name       TNBC.Updated.Clinical.Status ERBB2.Proteogenomic.Status  \\\n",
       "Patient_ID                                                           \n",
       "CPT000814                      positive                   negative   \n",
       "CPT001846                      positive                   negative   \n",
       "X01BR001                       positive                   negative   \n",
       "X01BR008                            NaN                   negative   \n",
       "X01BR009                       positive                   negative   \n",
       "\n",
       "Name       TOP2A.Proteogenomic.Status  \n",
       "Patient_ID                             \n",
       "CPT000814                    negative  \n",
       "CPT001846                    negative  \n",
       "X01BR001                     negative  \n",
       "X01BR008                     negative  \n",
       "X01BR009                     negative  "
      ]
     },
     "execution_count": 75,
     "metadata": {},
     "output_type": "execute_result"
    }
   ],
   "source": [
    "# write code here\n",
    "clinical_data.head()"
   ]
  },
  {
   "cell_type": "markdown",
   "id": "77030e93",
   "metadata": {},
   "source": [
    "**Exercise 4.1** You might notice that the Age column values don't look like years -- they're in months. Create a new column called \"Age\" with the \"Age.in.Month\" values / 12. Then, use head() again to make sure the ages were converted."
   ]
  },
  {
   "cell_type": "code",
   "execution_count": 115,
   "id": "e2b7a6d2",
   "metadata": {},
   "outputs": [],
   "source": [
    "# convert ages here!\n",
    "clinical_data['Age'] = clinical_data['Age.in.Month']/12"
   ]
  },
  {
   "cell_type": "markdown",
   "id": "a7e704a4",
   "metadata": {},
   "source": [
    "There are actually control (non-cancer) tissue samples in some datasets. Let's determine whether we need to account for this in our dataset this using the unique() function from numpy.\n",
    "\n",
    "__Exercise 4.2__ Call the unique() function on the Sample_Tumor_Normal column. The function will return the unique values in the column in a sorted order -- this is super useful for examining categorical variables, like tumor stage and tumor status, for example."
   ]
  },
  {
   "cell_type": "code",
   "execution_count": 77,
   "id": "5b56fa09",
   "metadata": {},
   "outputs": [
    {
     "data": {
      "text/plain": [
       "array(['Tumor'], dtype=object)"
      ]
     },
     "execution_count": 77,
     "metadata": {},
     "output_type": "execute_result"
    }
   ],
   "source": [
    "# Get the levels of the Sample_Tumor_Normal column with unique()\n",
    "clinical_data['Sample_Tumor_Normal'].unique()"
   ]
  },
  {
   "cell_type": "markdown",
   "id": "5b1338d1",
   "metadata": {},
   "source": [
    "__Exercise 4.3__ Let's examine how tumor stage varies as a function of age:\n",
    "\n",
    "   1. Import the plotting libraries matplotlib.pyplot and seaborn (use the standard abbreviations presented last time).\n",
    "   2. Create an age_category column in clinical_data. As before, we'll define \"Young\" as under 50, and \"Old\" as 50 and older. (Hint: use the where() function from numpy, the equivalent to ifelse()).\n",
    "   3. The \"Stage\" information for these patients is NaN (the pandas version of NA). Use the isna() function from pandas and boolean indexing (i.e. where() from numpy again) to replace these NaN values in the Stage column with \"No cancer\".\n",
    "   4. Using nested for loop and boolean indexing, count the number of old and young patients that have No cancer, Stage I, Stage II, Stage III, and Stage IV cancer.\n",
    "   5. Compare your results to the barplot. Do your numbers make sense?"
   ]
  },
  {
   "cell_type": "code",
   "execution_count": 118,
   "id": "3d9b0202",
   "metadata": {},
   "outputs": [
    {
     "name": "stdout",
     "output_type": "stream",
     "text": [
      "Old\n",
      " The number of No cancer patients is 1\n",
      " The number of Stage IA patients is 4\n",
      " The number of Stage IIA patients is 43\n",
      " The number of Stage IIB patients is 11\n",
      " The number of Stage III patients is 1\n",
      " The number of Stage IIIA patients is 18\n",
      " The number of Stage IIIB patients is 2\n",
      " The number of Stage IIIC patients is 2\n",
      "Young\n",
      " The number of No cancer patients is 0\n",
      " The number of Stage IA patients is 0\n",
      " The number of Stage IIA patients is 6\n",
      " The number of Stage IIB patients is 8\n",
      " The number of Stage III patients is 2\n",
      " The number of Stage IIIA patients is 4\n",
      " The number of Stage IIIB patients is 1\n",
      " The number of Stage IIIC patients is 2\n"
     ]
    },
    {
     "data": {
      "image/png": "[encoded data removed]",
      "text/plain": [
       "<Figure size 640x480 with 1 Axes>"
      ]
     },
     "metadata": {},
     "output_type": "display_data"
    }
   ],
   "source": [
    "# 1. Import libraries here\n",
    "import matplotlib.pyplot as plt\n",
    "import seaborn as sns\n",
    "\n",
    "# 2. Create the age_category column in clinical_data\n",
    "clinical_data['age_category'] = np.where(clinical_data['Age'] >= 50, 'Old', \\\n",
    "                                           np.where(clinical_data['Age'] < 50, 'Young', np.nan))\n",
    "# it seems like I would delete the age column in the previous step\n",
    "clinical_data['Age'] = clinical_data['Age.in.Month']/12\n",
    "\n",
    "# 3. Replace NaN with No cancer\n",
    "# nan_mask = clinical_data.loc[:, 'Stage'] == np.nan\n",
    "na_mask = clinical_data.loc[:, 'Stage'].isna()\n",
    "clinical_data.loc[na_mask, 'Stage'] = 'No cancer'\n",
    "\n",
    "## this will programatically get all the stages in order\n",
    "stage_categories = np.unique(clinical_data['Stage'])\n",
    "assert(np.all(stage_categories == ['No cancer', 'Stage IA', 'Stage IIA', 'Stage IIB',\n",
    "                                    'Stage III', 'Stage IIIA', 'Stage IIIB', 'Stage IIIC']))\n",
    "\n",
    "# 4. Loop through all the stage categories and count\n",
    "\n",
    "for age_cat in [\"Old\", \"Young\"]: # first get the old data, then the young data\n",
    "    print(age_cat)\n",
    "    # fill this in with the cancer category:\n",
    "    for s in stage_categories:\n",
    "        # 1. create a subset of the data frame with the old/young patients\n",
    "        # 2. count the number of patients with the stage of cancer and print\n",
    "        age_mask = clinical_data.loc[:, 'age_category'] == age_cat\n",
    "        subset_patients = clinical_data[age_mask]\n",
    "        print(f\" The number of {s} patients is {len(subset_patients[subset_patients.loc[:, 'Stage'] == s])}\")\n",
    "        \n",
    "# 5. A sample barplot to compare your results\n",
    "clinical_data_copy = clinical_data\n",
    "clinical_data_copy[\"Stage\"] = np.where(pd.isna(clinical_data[\"Stage\"]), \"No cancer\", clinical_data[\"Stage\"])\n",
    "sns.countplot(\n",
    "    x = \"age_category\",\n",
    "    hue = \"Stage\",\n",
    "    hue_order = stage_categories,\n",
    "    data = clinical_data_copy\n",
    ")\n",
    "\n",
    "plt.show()\n",
    "\n",
    "# the printed numbers do correspond to the graph"
   ]
  },
  {
   "cell_type": "markdown",
   "id": "c5b41b9e",
   "metadata": {},
   "source": [
    "# Plotting Proteomic Data"
   ]
  },
  {
   "cell_type": "markdown",
   "id": "2e35c50e",
   "metadata": {},
   "source": [
    "## 1) Plotting with matplotlib\n",
    "Let's explore some more complex ways to plot using the Matplotlib package.\n",
    "\n",
    "Import pyplot from matplotlib as its common handle (plt)"
   ]
  },
  {
   "cell_type": "code",
   "execution_count": 119,
   "id": "fa763fb1",
   "metadata": {},
   "outputs": [],
   "source": [
    "# Write code here\n",
    "import matplotlib.pyplot as plt"
   ]
  },
  {
   "cell_type": "markdown",
   "id": "456a052b",
   "metadata": {},
   "source": [
    "Let's explore how the proteomic expression of a gene differs between young and old patients.\n",
    "\n",
    "**Exercise 1.1** Plot the expression data of a chosen protein stratified between young (58) and old (58) patients."
   ]
  },
  {
   "cell_type": "code",
   "execution_count": 120,
   "id": "73359e8c",
   "metadata": {},
   "outputs": [
    {
     "data": {
      "text/plain": [
       "[array([-0.4773,  0.7478,  0.0829,  0.1184, -1.3494,  1.2831,  1.4867,\n",
       "        -0.5773,  2.5209,  0.3194, -0.1004, -0.4689,  0.3313,  0.5564,\n",
       "         0.17  , -1.238 ,  1.2587,  1.9769, -0.1252, -0.0474,  1.6916,\n",
       "         1.4595,  0.2499, -0.6544, -0.2697,  2.0508, -0.8552, -0.695 ,\n",
       "         0.9414,  1.0348, -0.0449,  0.1577,  1.2025,  0.2285,  0.7156,\n",
       "         0.7972,  0.1607,  0.5429,  1.5085,  0.0464,  0.8838, -0.6393,\n",
       "        -0.3674,  0.1495, -0.1179,  1.0005,  0.1298, -0.1543,  1.2783,\n",
       "         0.2205,  0.4928,  0.7646, -0.6651, -0.0262,  1.5536, -0.3485,\n",
       "         0.2457, -0.6342, -0.099 ,  1.2709, -0.241 ]),\n",
       " array([-1.1187, -0.6445,  0.4931,  0.4181,  1.9548,  1.0796,  0.8691,\n",
       "        -0.0615,  0.0654, -1.2143, -0.0154, -1.2843,  1.667 , -1.2401,\n",
       "        -1.4868, -0.1994, -0.4335,  0.8216,  0.6254, -0.2834, -0.5117,\n",
       "        -1.4169,  1.2888,  1.9603,  1.7908,  1.2654,  0.3376,  1.2091,\n",
       "        -1.4048,  0.5524,  0.6063, -1.0494,  0.6226, -0.1018,  0.5235,\n",
       "        -0.521 ,  1.9788,  0.6568, -0.5612,  0.6845, -2.0772, -0.1085,\n",
       "         1.7644,  2.2376])]"
      ]
     },
     "execution_count": 120,
     "metadata": {},
     "output_type": "execute_result"
    }
   ],
   "source": [
    "young_mask = clinical_data.loc[:, 'Age'] < 58 # the age column is 'Age.in.Month', which (as stated) is in months\n",
    "old_mask = clinical_data.loc[:, 'Age'] >= 58 \n",
    "\n",
    "young = (protein_data.loc[young_mask, 'AAGAB']).dropna()\n",
    "old = (protein_data.loc[old_mask, 'AAGAB']).dropna()\n",
    "\n",
    "data = [old.values, young.values] # our boxplot function will require an array (or an array of arrays)\n",
    "data"
   ]
  },
  {
   "cell_type": "code",
   "execution_count": 33,
   "id": "01ad52bc",
   "metadata": {},
   "outputs": [
    {
     "data": {
      "image/png": "[encoded data removed]",
      "text/plain": [
       "<Figure size 640x480 with 1 Axes>"
      ]
     },
     "metadata": {},
     "output_type": "display_data"
    }
   ],
   "source": [
    "fig, ax = plt.subplots()\n",
    "\n",
    "plt.axhline(y = 0, color = 'blue', linestyle = '-')\n",
    "plt.axhline(y = -1, color = 'blue', linestyle = ':')\n",
    "plt.axhline(y = 1, color = 'blue', linestyle = ':')\n",
    "\n",
    "\n",
    "bp = ax.boxplot(data) # data goes here\n",
    "plt.xticks([1, 2], [\"Old Patients\", \"Young Patients\"]) # use \\n for new line if desired\n",
    "plt.ylabel('AAGAB Expression')\n",
    "\n",
    "plt.show()"
   ]
  },
  {
   "cell_type": "markdown",
   "id": "25e3f44f",
   "metadata": {},
   "source": [
    "**Exercise 1.2** Why do you think we added lines at -1, 0, and 1? What do these values represent in terms of log2FoldChange?"
   ]
  },
  {
   "cell_type": "code",
   "execution_count": null,
   "id": "73715440",
   "metadata": {},
   "outputs": [],
   "source": [
    "# answer in a comment here\n",
    "# 0 distinguishes between lower and higher; expression above 1 is generally considered high\n",
    "# expression below -1 is generally considered low\n",
    "# if the value is x, then the expression of that specific gene is x^2 times higher/lower"
   ]
  },
  {
   "cell_type": "markdown",
   "id": "fa7c2940",
   "metadata": {},
   "source": [
    "## (2) SciPy\n",
    "Another question to ask is if the levels of RNA expression correlate with protein expression. While we would expect for there to be a 1:1 relationship between RNA and protein (according to the central dogma), as you will see, this is not what we oftentimes observe."
   ]
  },
  {
   "cell_type": "code",
   "execution_count": 121,
   "id": "f5be4586",
   "metadata": {},
   "outputs": [],
   "source": [
    "from scipy import stats # we are using the stats package in particular"
   ]
  },
  {
   "cell_type": "markdown",
   "id": "6d033105",
   "metadata": {},
   "source": [
    "The first thing we need to do is to identify which patients and genes are shared between the transcriptomic and proteomic data sets.\n",
    "\n",
    "Luckily for us, all 122 patients in the Brca dataset have clinical, transcriptomic, and proteomic data. If this were not the case (such as in the colon cancer database), we would use intersect1d() to fix this. We will still need to use intersect1d() to determine which genes are shared.\n",
    "\n",
    "**Exercise 2.1** To make sure the data frames match:\n",
    "\n",
    "1. Identify the names of the genes that are shared between the two datasets (hint: use intersect1d()). Is this data the row or column names?\n",
    "2. Create the rna_shared and prot_shared data frames; ie dataframes with only genes that are shared between rna and protein data. (Hint: how can we access rows/columns by name?)."
   ]
  },
  {
   "cell_type": "code",
   "execution_count": 123,
   "id": "a5cf7b19",
   "metadata": {},
   "outputs": [
    {
     "name": "stdout",
     "output_type": "stream",
     "text": [
      "['A1BG' 'A2M' 'A2ML1' ... 'ZYX' 'ZZEF1' 'ZZZ3']\n"
     ]
    }
   ],
   "source": [
    "# 1. Identify the genes (RNA, protein) shared between the two data sets \n",
    "shared_rna_prot = np.intersect1d(rna_data.columns, protein_data.columns)\n",
    "# the data is col names\n",
    "\n",
    "# 2. Create the two data frames\n",
    "rna_shared = rna_data.loc[:, shared_rna_prot]\n",
    "prot_shared = protein_data.loc[:, shared_rna_prot]"
   ]
  },
  {
   "cell_type": "markdown",
   "id": "7a365ac5",
   "metadata": {},
   "source": [
    "Now, we can see how correlated the RNA and protein levels are. We'll use Spearman correlation from the stats library, which is spearmanr().\n",
    "\n",
    "**Exercise 2.2** Choose a gene and get the Spearman correlation of the rna to protein of that gene."
   ]
  },
  {
   "cell_type": "code",
   "execution_count": 124,
   "id": "ffc0f52b",
   "metadata": {},
   "outputs": [
    {
     "name": "stdout",
     "output_type": "stream",
     "text": [
      "The correlation of AAGAB is 0.633 (p = 0.0).\n"
     ]
    }
   ],
   "source": [
    "# we need the nan_policy=\"omit\" to throw out NaN values\n",
    "corr, pval = stats.spearmanr(rna_shared[\"AAGAB\"], prot_shared[\"AAGAB\"], nan_policy=\"omit\")\n",
    "\n",
    "print(f\"The correlation of AAGAB is {round(corr, 3)} (p = {round(pval, 10)}).\")"
   ]
  },
  {
   "cell_type": "markdown",
   "id": "21464da2",
   "metadata": {},
   "source": [
    "**Exercise 2.3** What is your gene's Spearman correlation? What does that mean mathematically? What could this represent biologically? Look into the literature to see if it corroborates this idea."
   ]
  },
  {
   "cell_type": "code",
   "execution_count": null,
   "id": "f424914b",
   "metadata": {},
   "outputs": [],
   "source": [
    "# answer in a comment here\n",
    "# The Spearman correlation is 0.633, and the p-value is about 0.0. It means that the relationship between the \n",
    "# expression of AAGAB in RNA and protein is not very strong, meaning that some AAGAB RNA does not get to the process \n",
    "# of protein making."
   ]
  },
  {
   "cell_type": "markdown",
   "id": "d123f959",
   "metadata": {},
   "source": [
    "## (3) Heatmaps\n",
    "**Exercise 3.1** A problem arises if we want to compare many correlations. Heatmaps are useful for visualizing a large number of comparisons. To make a heatmap, we'll use the heatmap() function from seaborn. Let's do the following:\n",
    "\n",
    "1. Set up our data frame to hold all comparisons. All you need to do is to access the first 20 gene names.\n",
    "2. Calculate the correlations for the first 20 genes (just to save time). You'll need to use two for loops.\n",
    "3. Call heatmap() -- this is filled in for you!\n",
    "4. Interpret the data. There is a \"light\" diagonal along the heatmap from the top-left to bottom-right. Is this expected? Why or why not?"
   ]
  },
  {
   "cell_type": "code",
   "execution_count": 125,
   "id": "79e1b2a0",
   "metadata": {},
   "outputs": [],
   "source": [
    "import seaborn as sns"
   ]
  },
  {
   "cell_type": "code",
   "execution_count": 126,
   "id": "5149313c",
   "metadata": {},
   "outputs": [
    {
     "data": {
      "image/png": "[encoded data removed]",
      "text/plain": [
       "<Figure size 640x480 with 2 Axes>"
      ]
     },
     "metadata": {},
     "output_type": "display_data"
    }
   ],
   "source": [
    "ncomparisons = 20 # define this variable in case we want to change the number of correlations to test\n",
    "                  # this makes it less likely you'll forget to change a number, e.g. in the data frame shape\n",
    "gene_names = protein_data.columns[:20] # get the first ncomparisons gene names\n",
    "\n",
    "\n",
    "# Don't worry about this code\n",
    "# It's good practice to declare your data frame beforehand (it's much faster than appending to a list)\n",
    "# We fill everything in with 0 just as a placeholder\n",
    "corr_df = pd.DataFrame(np.ndarray(shape=(ncomparisons, ncomparisons), dtype=np.float16),\n",
    "                      index = gene_names,\n",
    "                      columns = gene_names)\n",
    "\n",
    "# 2. fill in the data frame!\n",
    "for g1 in gene_names:\n",
    "    for g2 in gene_names:\n",
    "        # calculate the correlations between protein and RNA\n",
    "        # then, use .loc[] to store the correlation in corr_df\n",
    "        corr, pval = stats.spearmanr(rna_shared[g1], prot_shared[g2], nan_policy = 'omit')\n",
    "        corr_df.loc[g1, g2] = corr\n",
    "\n",
    "# 3. create the heat map\n",
    "plot = sns.heatmap(\n",
    "    corr_df,\n",
    "    cmap='mako',\n",
    ")\n",
    "plot.set_xlabel('Protein', fontsize=10)\n",
    "plot.set_ylabel('RNA', fontsize=10)\n",
    "plt.show()\n",
    "\n",
    "# 4. interpret!\n",
    "# The light diagonal is expected because it indicates a higher correlation between the expression of the same gene\n",
    "# in RNA and protein. The correlation for ABAT is high, while the correlation for AlBG is relatively low."
   ]
  },
  {
   "cell_type": "markdown",
   "id": "127284e2",
   "metadata": {},
   "source": [
    "## (4) Plotting with Seaborn\n",
    "seaborn is a nice package which works well with matplotlib and makes prettier plots with more control over the figure.\n",
    "\n",
    "Here's how you make a scatter plot with seaborn, for example:"
   ]
  },
  {
   "cell_type": "code",
   "execution_count": 127,
   "id": "e7d72523",
   "metadata": {},
   "outputs": [
    {
     "data": {
      "image/png": "[encoded data removed]",
      "text/plain": [
       "<Figure size 640x480 with 1 Axes>"
      ]
     },
     "metadata": {},
     "output_type": "display_data"
    }
   ],
   "source": [
    "fig, ax = plt.subplots()\n",
    "\n",
    "sns.scatterplot( # x-axis\n",
    "    x = clinical_data.loc[:, \"Age.in.Month\"],\n",
    "    y = protein_data.loc[:, \"DYNLT3\"],# y-axis\n",
    "    legend = \"full\",  # show the legend\n",
    "    ax = ax  # necessary for when plotting more than 1 subplot\n",
    ")\n",
    "\n",
    "fig.suptitle('Age vs. DYNLT3')  # set title\n",
    "\n",
    "plt.show()"
   ]
  },
  {
   "cell_type": "markdown",
   "id": "2b2a98a7",
   "metadata": {},
   "source": [
    "**Exercise 4.1** Update the above plot to:\n",
    "\n",
    "1. Have age in years instead of months.\n",
    "2. Color patients based on gender (or another clinical variable of your choosing)\n",
    "3. Have a side-by-side second plot with a different protein of your choosing\n",
    "<br></br>NOTE: you will need to Google to figure out how to do most of the above things!"
   ]
  },
  {
   "cell_type": "code",
   "execution_count": 134,
   "id": "0a02927d",
   "metadata": {},
   "outputs": [
    {
     "data": {
      "image/png": "[encoded data removed]",
      "text/plain": [
       "<Figure size 640x480 with 2 Axes>"
      ]
     },
     "metadata": {},
     "output_type": "display_data"
    }
   ],
   "source": [
    "# create plot here\n",
    "fig, ax = plt.subplots(1,2, constrained_layout=True)\n",
    "\n",
    "sns.scatterplot( # x-axis\n",
    "    x = clinical_data.loc[:, \"Age\"],\n",
    "    y = protein_data.loc[:, \"DYNLT3\"],# y-axis\n",
    "    hue = clinical_data.loc[:, \"Ethnicity\"], # color by ethnicity bc there's only female\n",
    "    legend = \"full\",  # show the legend\n",
    "    ax = ax[0]  # necessary for when plotting more than 1 subplot\n",
    ")\n",
    "\n",
    "sns.scatterplot( # x-axis\n",
    "    x = clinical_data.loc[:, \"Age\"],\n",
    "    y = protein_data.loc[:, \"AAGAB\"],# y-axis\n",
    "    hue = clinical_data.loc[:, \"Ethnicity\"], # color by ethnicity bc there's only female\n",
    "    legend = \"full\",  # show the legend\n",
    "    ax = ax[1]  # necessary for when plotting more than 1 subplot\n",
    ")\n",
    "\n",
    "ax[0].set_title('DYNLT3')\n",
    "ax[1].set_title('AAGAB')\n",
    "\n",
    "fig.suptitle('Age vs. DYNLT3')  # set title\n",
    "\n",
    "plt.show()"
   ]
  },
  {
   "cell_type": "markdown",
   "id": "392e7cd4",
   "metadata": {},
   "source": [
    "## (5) Saving Plots\n",
    "Finally, to save a plot, we can call plt.savefig() instead of the plt.show()."
   ]
  },
  {
   "cell_type": "code",
   "execution_count": 135,
   "id": "d83d3ddc",
   "metadata": {},
   "outputs": [
    {
     "data": {
      "image/png": "[encoded data removed]",
      "text/plain": [
       "<Figure size 640x480 with 1 Axes>"
      ]
     },
     "metadata": {},
     "output_type": "display_data"
    }
   ],
   "source": [
    "fig, ax = plt.subplots()\n",
    "\n",
    "sns.scatterplot( # x-axis\n",
    "    x = clinical_data.loc[:, \"Age.in.Month\"],\n",
    "    y = protein_data.loc[:, \"DYNLT3\"],# y-axis\n",
    "    legend = \"full\",  # show the legend\n",
    "    ax = ax  # necessary for when plotting more than 1 subplot\n",
    ")\n",
    "\n",
    "fig.suptitle('Age vs. DYNLT3')  # set title\n",
    "\n",
    "# age_scatter.png is a relative path so check your working directory before running it\n",
    "plt.savefig('age_scatter.png', bbox_inches='tight')"
   ]
  },
  {
   "cell_type": "code",
   "execution_count": null,
   "id": "0a16b4b2",
   "metadata": {},
   "outputs": [],
   "source": []
  }
 ],
 "metadata": {
  "kernelspec": {
   "display_name": "Python 3 (ipykernel)",
   "language": "python",
   "name": "python3"
  },
  "language_info": {
   "codemirror_mode": {
    "name": "ipython",
    "version": 3
   },
   "file_extension": ".py",
   "mimetype": "text/x-python",
   "name": "python",
   "nbconvert_exporter": "python",
   "pygments_lexer": "ipython3",
   "version": "3.9.16"
  }
 },
 "nbformat": 4,
 "nbformat_minor": 5
}
